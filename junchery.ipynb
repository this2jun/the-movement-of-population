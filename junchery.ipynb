{
 "cells": [
  {
   "cell_type": "code",
   "execution_count": 6,
   "metadata": {},
   "outputs": [],
   "source": [
    "import pandas as pd\n",
    "\n",
    "for i in range(24):\n",
    "    # csv 파일 읽기\n",
    "    filename = f'rrrgu{i}.csv'\n",
    "    df = pd.read_csv(filename)\n",
    "\n",
    "    # 주중 데이터만 추출하여 따로 저장\n",
    "    weekday_df = df[df['요일'] == '주중']\n",
    "    weekday_filename = f'rrrgu{i}_주중.csv'\n",
    "    weekday_df.to_csv(weekday_filename, index=False)\n",
    "\n",
    "    # 주말 데이터만 추출하여 따로 저장\n",
    "    weekend_df = df[df['요일'] == '주말']\n",
    "    weekend_filename = f'rrrgu{i}_주말.csv'\n",
    "    weekend_df.to_csv(weekend_filename, index=False)\n"
   ]
  }
 ],
 "metadata": {
  "kernelspec": {
   "display_name": "Python 3",
   "language": "python",
   "name": "python3"
  },
  "language_info": {
   "codemirror_mode": {
    "name": "ipython",
    "version": 3
   },
   "file_extension": ".py",
   "mimetype": "text/x-python",
   "name": "python",
   "nbconvert_exporter": "python",
   "pygments_lexer": "ipython3",
   "version": "3.11.3"
  },
  "orig_nbformat": 4
 },
 "nbformat": 4,
 "nbformat_minor": 2
}
